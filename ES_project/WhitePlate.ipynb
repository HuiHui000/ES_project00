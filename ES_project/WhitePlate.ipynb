{
 "cells": [
  {
   "cell_type": "code",
   "execution_count": 129,
   "id": "006ffe48-5e60-4faa-b7ad-4d8b01799c32",
   "metadata": {},
   "outputs": [],
   "source": [
    "from PIL import Image as PIL_Image\n",
    "import cv2\n",
    "import imutils\n",
    "import matplotlib.pyplot as plt\n",
    "import numpy as np\n",
    "import easyocr\n",
    "import pytesseract\n",
    "import os"
   ]
  },
  {
   "cell_type": "code",
   "execution_count": 157,
   "id": "5d45e5e5-0596-4e8f-a738-a81e74b28fce",
   "metadata": {},
   "outputs": [
    {
     "name": "stdout",
     "output_type": "stream",
     "text": [
      "<class 'numpy.ndarray'>\n",
      "377 230 40 134\n",
      "455 268 85 47\n",
      "336 0 59 48\n",
      "164 0 80 35\n",
      "426 201 86 36\n",
      "0 10 81 49\n",
      "5 63 58 55\n",
      "236 67 35 54\n",
      "435 205 73 24\n",
      "276 91 31 22\n"
     ]
    }
   ],
   "source": [
    "orig_img_path = 'data/plate12.jpg'\n",
    "img = cv2.imread(orig_img_path)\n",
    "img = cv2.resize(img, (600,400) )\n",
    "#cv2.imshow(\"windows\", img)\n",
    "\n",
    "gray = cv2.cvtColor(img, cv2.COLOR_BGR2GRAY) #convert to grey scale\n",
    "blur_img = cv2.bilateralFilter(gray, 11, 17, 17)\n",
    "cv2.imshow(\"windows_bl\", blur_img)\n",
    "\n",
    "ret, th1 = cv2.threshold(blur_img,165,255,cv2.THRESH_BINARY)\n",
    "cv2.imshow(\"windows_th\", th1)\n",
    "\n",
    "kernelx = cv2.getStructuringElement(cv2.MORPH_RECT, (5, 1))\n",
    "kernely = cv2.getStructuringElement(cv2.MORPH_RECT, (1, 3))\n",
    "kernel = cv2.getStructuringElement(cv2.MORPH_RECT, (3, 1))\n",
    "\n",
    "morph = cv2.dilate(th1, kernelx)\n",
    "morph = cv2.erode(morph, kernelx)\n",
    "morph = cv2.erode(morph, kernely)\n",
    "morph = cv2.dilate(morph, kernely)\n",
    "#morph = cv2.erode(morph, kernel)\n",
    "morph = cv2.dilate(morph, kernel)\n",
    "cv2.imshow(\"morph\", morph)\n",
    "\n",
    "\n",
    "edged = cv2.Canny(gray, 30, 180) #Perform Edge detection\n",
    "print(type(edged))\n",
    "#cv2.imshow(\"windows_edged\", edged)\n",
    "\n",
    "edged1 = cv2.Canny(th1, 30, 200) #Perform Edge detection\n",
    "cv2.imshow(\"windows_edged1\", edged1)\n",
    "\n",
    "cnts, _ = cv2.findContours(morph.copy(), cv2.RETR_LIST, cv2.CHAIN_APPROX_SIMPLE)\n",
    "clone = img.copy()\n",
    "cv2.drawContours(clone, cnts, -1, (0, 255, 0),1)\n",
    "#cv2.imshow(\"w\", clone)\n",
    "\n",
    "cnts = sorted(cnts, key=cv2.contourArea, reverse=True)[:10]\n",
    "max_weight = 0\n",
    "\n",
    "for item in cnts:\n",
    "    x,y,weight,height = cv2.boundingRect(item)\n",
    "    print(x,y,weight,height)    \n",
    "    if (weight / height > 1.5) and (weight / height < 3) and(weight>max_weight):\n",
    "        max_weight=weight\n",
    "        crop_img = gray[y:y + height, x:x + weight]\n",
    "        cv2.rectangle(clone,(x,y),(x + weight,y + height),(0,0,255),2)\n",
    "\n",
    "cv2.imshow(\"w\", clone)\n",
    "\n",
    "basename = os.path.basename(orig_img_path) # basename - example.py\n",
    "filename = os.path.splitext(basename)[0]  # filename - example \n",
    "saved = \"result/r_\" + filename + \".jpg\"\n",
    "saved_crop = \"result/cr_\" + filename + \".jpg\"\n",
    "cv2.imwrite(saved,clone)\n",
    "#cv2.imwrite(saved,crop_img)\n",
    "\n",
    "key = cv2.waitKey(0)\n",
    "#cv2.destroyWindow(\"windows\")\n",
    "#cv2.destroyWindow(\"windows_gray\")\n",
    "cv2.destroyWindow(\"windows_bl\")\n",
    "cv2.destroyWindow(\"windows_th\")\n",
    "cv2.destroyWindow(\"morph\")\n",
    "#cv2.destroyWindow(\"windows_edged\")\n",
    "cv2.destroyWindow(\"windows_edged1\")\n",
    "cv2.destroyWindow(\"w\")"
   ]
  },
  {
   "cell_type": "code",
   "execution_count": null,
   "id": "d97e42dc-9872-41ec-bc83-4b34a1e2e2fe",
   "metadata": {},
   "outputs": [],
   "source": []
  },
  {
   "cell_type": "code",
   "execution_count": null,
   "id": "b25f4ec9-3dc8-43f4-837e-1cfe905eb8b8",
   "metadata": {},
   "outputs": [],
   "source": []
  }
 ],
 "metadata": {
  "kernelspec": {
   "display_name": "Python 3 (ipykernel)",
   "language": "python",
   "name": "python3"
  },
  "language_info": {
   "codemirror_mode": {
    "name": "ipython",
    "version": 3
   },
   "file_extension": ".py",
   "mimetype": "text/x-python",
   "name": "python",
   "nbconvert_exporter": "python",
   "pygments_lexer": "ipython3",
   "version": "3.9.16"
  }
 },
 "nbformat": 4,
 "nbformat_minor": 5
}
