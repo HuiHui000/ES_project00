{
 "cells": [
  {
   "cell_type": "code",
   "execution_count": 15,
   "id": "bd2a029c-6c85-4545-ade8-6ea7984bb107",
   "metadata": {},
   "outputs": [],
   "source": [
    "from PIL import Image as PIL_Image\n",
    "import cv2\n",
    "import imutils\n",
    "import matplotlib.pyplot as plt\n",
    "import numpy as np\n",
    "import easyocr\n",
    "import pytesseract"
   ]
  },
  {
   "cell_type": "code",
   "execution_count": 18,
   "id": "5387757a-f428-44b0-94ba-f55f173d43f3",
   "metadata": {},
   "outputs": [
    {
     "name": "stdout",
     "output_type": "stream",
     "text": [
      "<class 'numpy.ndarray'>\n",
      "480\n"
     ]
    }
   ],
   "source": [
    "orig_img_path = 'data/car1.jpg'\n",
    "img = cv2.imread(orig_img_path)\n",
    "img = cv2.resize(img, (620,480) )\n",
    "\n",
    "gray = cv2.cvtColor(img, cv2.COLOR_BGR2GRAY) #convert to grey scale\n",
    "gray = cv2.bilateralFilter(gray, 11, 17, 17)\n",
    "\n",
    "edged = cv2.Canny(gray, 30, 200) #Perform Edge detection\n",
    "print(type(edged))\n",
    "cv2.imshow(\"windows\", edged)\n",
    "print(len(edged))\n",
    "key = cv2.waitKey(0)\n",
    "# if key == ord('q'):\n",
    "#    print(\"exit\")\n",
    "#cv2.imwrite(\"output.jpg\", img)\n",
    "cv2.destroyWindow(\"windows\")\n"
   ]
  },
  {
   "cell_type": "code",
   "execution_count": 4,
   "id": "461eeaab-d376-4970-a410-05da3bfb2454",
   "metadata": {},
   "outputs": [
    {
     "name": "stdout",
     "output_type": "stream",
     "text": [
      "<class 'list'>\n",
      "10\n"
     ]
    }
   ],
   "source": [
    "cnts = cv2.findContours(edged.copy(), cv2.RETR_TREE, cv2.CHAIN_APPROX_SIMPLE)\n",
    "cnts = imutils.grab_contours(cnts)\n",
    "cnts = sorted(cnts, key = cv2.contourArea, reverse = True)[:10]\n",
    "print(type(cnts))\n",
    "print(len(cnts))\n",
    "screenCnt = None"
   ]
  },
  {
   "cell_type": "code",
   "execution_count": 13,
   "id": "22c21ea5-b823-4ae2-a23d-1365d610b40e",
   "metadata": {},
   "outputs": [
    {
     "name": "stdout",
     "output_type": "stream",
     "text": [
      "type(approx): <class 'numpy.ndarray'>\n",
      "type(approx): <class 'numpy.ndarray'>\n",
      "type(screenCnt) <class 'numpy.ndarray'>\n",
      "4\n"
     ]
    }
   ],
   "source": [
    "# loop over our contours\n",
    "for c in cnts:\n",
    "    # approximate the contour\n",
    "    peri = cv2.arcLength(c, True)\n",
    "    approx = cv2.approxPolyDP(c, 0.018 * peri, True)\n",
    "    print(\"type(approx):\",type(approx))\n",
    "    # if our approximated contour has four points, then\n",
    "    # we can assume that we have found our screen\n",
    "    if len(approx) == 4:\n",
    "        screenCnt = approx\n",
    "        print(\"type(screenCnt)\",type(screenCnt))\n",
    "        print(len(screenCnt))\n",
    "        break"
   ]
  },
  {
   "cell_type": "code",
   "execution_count": 6,
   "id": "fda3859c-c989-40c1-a138-3462b16d572c",
   "metadata": {},
   "outputs": [
    {
     "ename": "error",
     "evalue": "OpenCV(4.7.0) D:\\a\\opencv-python\\opencv-python\\opencv\\modules\\imgcodecs\\src\\loadsave.cpp:699: error: (-215:Assertion failed) image.channels() == 1 || image.channels() == 3 || image.channels() == 4 in function 'cv::imwrite_'\n",
     "output_type": "error",
     "traceback": [
      "\u001b[1;31m---------------------------------------------------------------------------\u001b[0m",
      "\u001b[1;31merror\u001b[0m                                     Traceback (most recent call last)",
      "Cell \u001b[1;32mIn[6], line 1\u001b[0m\n\u001b[1;32m----> 1\u001b[0m \u001b[43mcv2\u001b[49m\u001b[38;5;241;43m.\u001b[39;49m\u001b[43mimwrite\u001b[49m\u001b[43m(\u001b[49m\u001b[38;5;124;43m\"\u001b[39;49m\u001b[38;5;124;43moutput.jpg\u001b[39;49m\u001b[38;5;124;43m\"\u001b[39;49m\u001b[43m,\u001b[49m\u001b[43m \u001b[49m\u001b[43mscreenCnt\u001b[49m\u001b[43m)\u001b[49m\n",
      "\u001b[1;31merror\u001b[0m: OpenCV(4.7.0) D:\\a\\opencv-python\\opencv-python\\opencv\\modules\\imgcodecs\\src\\loadsave.cpp:699: error: (-215:Assertion failed) image.channels() == 1 || image.channels() == 3 || image.channels() == 4 in function 'cv::imwrite_'\n"
     ]
    }
   ],
   "source": [
    "cv2.imwrite(\"output.jpg\", screenCnt)"
   ]
  },
  {
   "cell_type": "code",
   "execution_count": null,
   "id": "d101eeda-69f3-4798-97e0-a650b5f7b8d4",
   "metadata": {},
   "outputs": [],
   "source": [
    "cv2.imshow(\"windows1\", screenCnt)\n",
    "key = cv2.waitKey(0)\n",
    "# if key == ord('q'):\n",
    "#    print(\"exit\")\n",
    "\n",
    "cv2.destroyWindow(\"windows1\")"
   ]
  },
  {
   "cell_type": "code",
   "execution_count": null,
   "id": "74cd28b9-fd37-4b5f-92b4-14fa1bff5da7",
   "metadata": {},
   "outputs": [],
   "source": [
    "type(cnts)"
   ]
  },
  {
   "cell_type": "code",
   "execution_count": 4,
   "id": "17458de7-c685-42b4-815b-b2b06a7adc3d",
   "metadata": {},
   "outputs": [
    {
     "name": "stdout",
     "output_type": "stream",
     "text": [
      "Detected Number is: \n"
     ]
    }
   ],
   "source": [
    "import cv2\n",
    "import imutils\n",
    "import numpy as np\n",
    "import pytesseract\n",
    "from PIL import Image\n",
    "\n",
    "#img = cv2.imread('data/plate1.jpg',cv2.IMREAD_COLOR)\n",
    "img = cv2.imread('data/car1.jpg',cv2.IMREAD_COLOR)\n",
    "img = cv2.resize(img, (600,400))\n",
    "\n",
    "gray = cv2.cvtColor(img, cv2.COLOR_BGR2GRAY) #convert to grey scale\n",
    "gray = cv2.bilateralFilter(gray, 11, 17, 17) #Blur to reduce noise\n",
    "\n",
    "edged = cv2.Canny(gray, 30, 200) #Perform Edge detection\n",
    "cv2.imshow('edged',edged)\n",
    "\n",
    "# find contours in the edged image, keep only the largest\n",
    "# ones, and initialize our screen contour\n",
    "cnts = cv2.findContours(edged.copy(), cv2.RETR_TREE, cv2.CHAIN_APPROX_SIMPLE)\n",
    "cnts = imutils.grab_contours(cnts)\n",
    "cnts = sorted(cnts, key = cv2.contourArea, reverse = True)[:10]\n",
    "\n",
    "# max_weight=0\n",
    "# for item in cnts:\n",
    "#     x,y,weight,height = cv2.boundingRect(item)\n",
    "#     print(x,y,weight,height)    \n",
    "#     if (weight / height > 1.5) and (weight>max_weight):\n",
    "#         max_weight=weight\n",
    "#         crop_img = gray[y-20:y + height + 15, x - 5:x + weight+15]\n",
    "\n",
    "\n",
    "screenCnt = None\n",
    "# loop over our contours\n",
    "for c in cnts:\n",
    "    # approximate the contour\n",
    "    peri = cv2.arcLength(c, True)\n",
    "    approx = cv2.approxPolyDP(c, 0.020 * peri, True)\n",
    "    \n",
    " # if our approximated contour has four points, then\n",
    " # we can assume that we have found our screen\n",
    "    if len(approx) == 4:\n",
    "        screenCnt = approx\n",
    "        break\n",
    "        \n",
    "if screenCnt is None:\n",
    "    detected = 0\n",
    "    print(\"No contour detected\")\n",
    "\n",
    "else:\n",
    "    detected = 1\n",
    "\n",
    "if detected == 1:\n",
    "    cv2.drawContours(img, [screenCnt], -1, (0, 255, 0), 3)\n",
    "\n",
    "\n",
    "# Masking the part other than the number plate\n",
    "mask = np.zeros(gray.shape,np.uint8)\n",
    "new_image = cv2.drawContours(mask,[screenCnt],0,255,-1,)\n",
    "new_image = cv2.bitwise_and(img,img,mask=mask)\n",
    "\n",
    "\n",
    "# Now crop\n",
    "(x, y) = np.where(mask == 255)\n",
    "(topx, topy) = (np.min(x), np.min(y))\n",
    "(bottomx, bottomy) = (np.max(x), np.max(y))\n",
    "Cropped = gray[topx:bottomx+1, topy:bottomy+1]\n",
    "\n",
    "pytesseract.pytesseract.tesseract_cmd = r'C:\\Program Files\\Tesseract-OCR\\\\tesseract.exe'\n",
    "#Read the number plate\n",
    "text = pytesseract.image_to_string(Cropped, config='--psm 11')\n",
    "print(\"Detected Number is:\",text)\n",
    "\n",
    "# cv2.imshow('edged',edged)\n",
    "# cv2.imshow('image',img)\n",
    "# cv2.imshow('Cropped',Cropped)\n",
    "cv2.waitKey(0)\n",
    "cv2.destroyAllWindows()\n",
    "\n"
   ]
  },
  {
   "cell_type": "code",
   "execution_count": null,
   "id": "f8f3f032-da39-4df3-9a82-349e2e6c7bdd",
   "metadata": {},
   "outputs": [],
   "source": []
  },
  {
   "cell_type": "code",
   "execution_count": 2,
   "id": "0842baf9-0c49-4868-8a29-25e89a81a1c8",
   "metadata": {},
   "outputs": [
    {
     "ename": "error",
     "evalue": "OpenCV(4.7.0) D:\\a\\opencv-python\\opencv-python\\opencv\\modules\\imgproc\\src\\color.cpp:182: error: (-215:Assertion failed) !_src.empty() in function 'cv::cvtColor'\n",
     "output_type": "error",
     "traceback": [
      "\u001b[1;31m---------------------------------------------------------------------------\u001b[0m",
      "\u001b[1;31merror\u001b[0m                                     Traceback (most recent call last)",
      "Cell \u001b[1;32mIn[2], line 8\u001b[0m\n\u001b[0;32m      6\u001b[0m img \u001b[38;5;241m=\u001b[39m cv2\u001b[38;5;241m.\u001b[39mimread(\u001b[38;5;124m'\u001b[39m\u001b[38;5;124mdata/plate1\u001b[39m\u001b[38;5;124m'\u001b[39m,cv2\u001b[38;5;241m.\u001b[39mIMREAD_COLOR)\n\u001b[0;32m      7\u001b[0m \u001b[38;5;66;03m#img = cv2.resize(img, (600,400) )\u001b[39;00m\n\u001b[1;32m----> 8\u001b[0m gray \u001b[38;5;241m=\u001b[39m \u001b[43mcv2\u001b[49m\u001b[38;5;241;43m.\u001b[39;49m\u001b[43mcvtColor\u001b[49m\u001b[43m(\u001b[49m\u001b[43mimg\u001b[49m\u001b[43m,\u001b[49m\u001b[43m \u001b[49m\u001b[43mcv2\u001b[49m\u001b[38;5;241;43m.\u001b[39;49m\u001b[43mCOLOR_BGR2GRAY\u001b[49m\u001b[43m)\u001b[49m\n\u001b[0;32m      9\u001b[0m gray \u001b[38;5;241m=\u001b[39m cv2\u001b[38;5;241m.\u001b[39mbilateralFilter(gray, \u001b[38;5;241m13\u001b[39m, \u001b[38;5;241m15\u001b[39m, \u001b[38;5;241m15\u001b[39m)\n\u001b[0;32m     10\u001b[0m edged \u001b[38;5;241m=\u001b[39m cv2\u001b[38;5;241m.\u001b[39mCanny(gray, \u001b[38;5;241m30\u001b[39m,\u001b[38;5;241m150\u001b[39m)\n",
      "\u001b[1;31merror\u001b[0m: OpenCV(4.7.0) D:\\a\\opencv-python\\opencv-python\\opencv\\modules\\imgproc\\src\\color.cpp:182: error: (-215:Assertion failed) !_src.empty() in function 'cv::cvtColor'\n"
     ]
    }
   ],
   "source": [
    "import cv2\n",
    "import imutils\n",
    "import numpy as np\n",
    "import pytesseract\n",
    "pytesseract.pytesseract.tesseract_cmd = r'C:\\Program Files\\Tesseract-OCR\\tesseract.exe'\n",
    "img = cv2.imread('data/plate1',cv2.IMREAD_COLOR)\n",
    "#img = cv2.resize(img, (600,400) )\n",
    "gray = cv2.cvtColor(img, cv2.COLOR_BGR2GRAY)\n",
    "gray = cv2.bilateralFilter(gray, 13, 15, 15)\n",
    "edged = cv2.Canny(gray, 30,150)\n",
    "cv2.imshow('edged',edged)\n",
    "cv2.waitKey(0)\n",
    "contours=cv2.findContours(edged.copy(),cv2.RETR_TREE,cv2.CHAIN_APPROX_SIMPLE)\n",
    "contours = imutils.grab_contours(contours)\n",
    "contours = sorted(contours,key=cv2.contourArea, reverse = True)[:20]\n",
    "screenCnt = None\n",
    "for c in contours:\n",
    "    peri = cv2.arcLength(c, True)\n",
    "    approx = cv2.approxPolyDP(c, 0.018 * peri, True)\n",
    "    if len(approx) == 4:\n",
    "        screenCnt = approx\n",
    "        break\n",
    "print(screenCnt)\n",
    "mask = np.zeros(gray.shape,np.uint8)\n",
    "new_image = cv2.drawContours(mask,[screenCnt],0,255,-1,)\n",
    "new_image = cv2.bitwise_and(img,img,mask=mask)\n",
    "cv2.imshow('new_image',new_image)\n",
    "cv2.waitKey(0)\n",
    "(x, y) = np.where(mask == 255)\n",
    "(topx, topy) = (np.min(x), np.min(y))\n",
    "(bottomx, bottomy) = (np.max(x), np.max(y))\n",
    "Cropped = gray[topx:bottomx+1, topy:bottomy+1]\n",
    "text = pytesseract.image_to_string(Cropped, config='--psm 11')\n",
    "print(\"programming_fever's License Plate Recognition\\n\")\n",
    "print(\"Detected license plate Number is:\",text)\n",
    "img = cv2.resize(img,(500,300))\n",
    "Cropped = cv2.resize(Cropped,(400,200))\n",
    "cv2.imshow('car',img)\n",
    "cv2.imshow('Cropped',Cropped)\n",
    "cv2.waitKey(0)\n",
    "cv2.destroyAllWindows()"
   ]
  },
  {
   "cell_type": "code",
   "execution_count": null,
   "id": "a0093f3d-7365-4a2b-bbc0-6e5b80356da3",
   "metadata": {},
   "outputs": [],
   "source": []
  }
 ],
 "metadata": {
  "kernelspec": {
   "display_name": "Python 3 (ipykernel)",
   "language": "python",
   "name": "python3"
  },
  "language_info": {
   "codemirror_mode": {
    "name": "ipython",
    "version": 3
   },
   "file_extension": ".py",
   "mimetype": "text/x-python",
   "name": "python",
   "nbconvert_exporter": "python",
   "pygments_lexer": "ipython3",
   "version": "3.9.16"
  }
 },
 "nbformat": 4,
 "nbformat_minor": 5
}
