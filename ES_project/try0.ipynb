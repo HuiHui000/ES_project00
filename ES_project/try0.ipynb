{
 "cells": [
  {
   "cell_type": "code",
   "execution_count": 1,
   "id": "6817cac0",
   "metadata": {},
   "outputs": [],
   "source": [
    "import cv2\n",
    "import numpy as np\n",
    "import pytesseract"
   ]
  },
  {
   "cell_type": "code",
   "execution_count": 2,
   "id": "4cc70a86",
   "metadata": {},
   "outputs": [],
   "source": [
    "img = cv2.imread('car.png')\n",
    "gray = cv2.cvtColor(img, cv2.COLOR_BGR2GRAY)"
   ]
  },
  {
   "cell_type": "code",
   "execution_count": 3,
   "id": "836e2827",
   "metadata": {},
   "outputs": [],
   "source": [
    "cv2.imshow(\"gray\",gray)\n",
    "cv2.waitKey(0)\n",
    "cv2.destroyAllWindows()"
   ]
  },
  {
   "cell_type": "code",
   "execution_count": 4,
   "id": "4bda8b10",
   "metadata": {},
   "outputs": [],
   "source": [
    "img_blur = cv2.GaussianBlur(gray, (19,19), 0)"
   ]
  },
  {
   "cell_type": "code",
   "execution_count": 5,
   "id": "0d2a3dd2",
   "metadata": {},
   "outputs": [],
   "source": [
    "cv2.imshow(\"img_blur\",img_blur)\n",
    "cv2.waitKey(0)\n",
    "cv2.destroyAllWindows()"
   ]
  },
  {
   "cell_type": "code",
   "execution_count": 6,
   "id": "327b590d",
   "metadata": {},
   "outputs": [],
   "source": [
    "img_canny = cv2.Canny(img, 30, 150)"
   ]
  },
  {
   "cell_type": "code",
   "execution_count": 7,
   "id": "1ec6d3f8",
   "metadata": {},
   "outputs": [],
   "source": [
    "cv2.imshow(\"img_canny\",img_canny)\n",
    "cv2.waitKey(0)\n",
    "cv2.destroyAllWindows()"
   ]
  },
  {
   "cell_type": "code",
   "execution_count": 8,
   "id": "62e45713",
   "metadata": {},
   "outputs": [],
   "source": [
    "contours, hierarchy = cv2.findContours(img_canny, cv2.RETR_EXTERNAL, cv2.CHAIN_APPROX_SIMPLE)\n",
    "contours = sorted(contours, key=cv2.contourArea, reverse=True)[:10]\n",
    "for item in contours:\n",
    "    rect = cv2.boundingRect(item)\n",
    "    x = rect[0]\n",
    "    y = rect[1]\n",
    "    weight = rect[2]\n",
    "    height = rect[3]\n",
    "    if weight / height > 4:\n",
    "        cv2.rectangle(img, (x, y), (x+weight, y+height), (0, 0, 255), 3)"
   ]
  },
  {
   "cell_type": "code",
   "execution_count": 9,
   "id": "15257a7d",
   "metadata": {},
   "outputs": [],
   "source": [
    "cv2.imshow(\"img\",img)\n",
    "cv2.waitKey(0)\n",
    "cv2.destroyAllWindows()"
   ]
  },
  {
   "cell_type": "code",
   "execution_count": 10,
   "id": "a49bf219",
   "metadata": {},
   "outputs": [],
   "source": [
    "crop_img = gray[y:y+height][x:x+weight]"
   ]
  },
  {
   "cell_type": "code",
   "execution_count": 11,
   "id": "24988229",
   "metadata": {},
   "outputs": [],
   "source": [
    "cv2.imshow(\"crop_img\",crop_img)\n",
    "cv2.waitKey(0)\n",
    "cv2.destroyAllWindows()"
   ]
  },
  {
   "cell_type": "code",
   "execution_count": null,
   "id": "c628853d",
   "metadata": {},
   "outputs": [],
   "source": [
    "\n"
   ]
  },
  {
   "cell_type": "code",
   "execution_count": null,
   "id": "5ca69dfc",
   "metadata": {},
   "outputs": [],
   "source": []
  }
 ],
 "metadata": {
  "kernelspec": {
   "display_name": "Python 3 (ipykernel)",
   "language": "python",
   "name": "python3"
  },
  "language_info": {
   "codemirror_mode": {
    "name": "ipython",
    "version": 3
   },
   "file_extension": ".py",
   "mimetype": "text/x-python",
   "name": "python",
   "nbconvert_exporter": "python",
   "pygments_lexer": "ipython3",
   "version": "3.9.13"
  }
 },
 "nbformat": 4,
 "nbformat_minor": 5
}
