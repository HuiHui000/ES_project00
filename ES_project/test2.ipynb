{
 "cells": [
  {
   "cell_type": "code",
   "execution_count": 2,
   "id": "a84661a4",
   "metadata": {},
   "outputs": [
    {
     "ename": "IndexError",
     "evalue": "list index out of range",
     "output_type": "error",
     "traceback": [
      "\u001b[1;31m---------------------------------------------------------------------------\u001b[0m",
      "\u001b[1;31mIndexError\u001b[0m                                Traceback (most recent call last)",
      "Cell \u001b[1;32mIn[2], line 16\u001b[0m\n\u001b[0;32m     14\u001b[0m     \u001b[38;5;28;01mif\u001b[39;00m \u001b[38;5;28mlen\u001b[39m(cv2\u001b[38;5;241m.\u001b[39mapproxPolyDP(contour, \u001b[38;5;241m0.02\u001b[39m \u001b[38;5;241m*\u001b[39m cv2\u001b[38;5;241m.\u001b[39marcLength(contour, \u001b[38;5;28;01mTrue\u001b[39;00m), \u001b[38;5;28;01mTrue\u001b[39;00m)) \u001b[38;5;241m==\u001b[39m \u001b[38;5;241m4\u001b[39m:  \u001b[38;5;66;03m# 取得輪廓周長*0.02(越小，得到的多邊形角點越多)後，得到多邊形角點，為四邊形者\u001b[39;00m\n\u001b[0;32m     15\u001b[0m         rectangleContours\u001b[38;5;241m.\u001b[39mappend(contour)\n\u001b[1;32m---> 16\u001b[0m x, y, w, h \u001b[38;5;241m=\u001b[39m cv2\u001b[38;5;241m.\u001b[39mboundingRect(\u001b[43mrectangleContours\u001b[49m\u001b[43m[\u001b[49m\u001b[38;5;241;43m0\u001b[39;49m\u001b[43m]\u001b[49m)  \u001b[38;5;66;03m# 只取第一名，用一個最小的四邊形，把找到的輪廓包起來。\u001b[39;00m\n\u001b[0;32m     17\u001b[0m ret, plateImage \u001b[38;5;241m=\u001b[39m cv2\u001b[38;5;241m.\u001b[39mthreshold(cv2\u001b[38;5;241m.\u001b[39mcvtColor(cv2\u001b[38;5;241m.\u001b[39mGaussianBlur(rawImage[y:y \u001b[38;5;241m+\u001b[39m h, x:x \u001b[38;5;241m+\u001b[39m w], (\u001b[38;5;241m3\u001b[39m, \u001b[38;5;241m3\u001b[39m), \u001b[38;5;241m0\u001b[39m), cv2\u001b[38;5;241m.\u001b[39mCOLOR_RGB2GRAY), \u001b[38;5;241m0\u001b[39m, \u001b[38;5;241m255\u001b[39m, cv2\u001b[38;5;241m.\u001b[39mTHRESH_OTSU)  \u001b[38;5;66;03m# 找到車牌後，由原來的圖截取出來，再將其高斯模糊以及取得灰階，再獲得Binary圖\u001b[39;00m\n\u001b[0;32m     19\u001b[0m \u001b[38;5;66;03m# 取出車牌文字 Getting License Plate Number\u001b[39;00m\n",
      "\u001b[1;31mIndexError\u001b[0m: list index out of range"
     ]
    }
   ],
   "source": [
    "import os\n",
    "import cv2\n",
    "import numpy as np\n",
    "\n",
    "extension = '.jpg'\n",
    "imagePath = 'data/plate2.jpg'\n",
    "patternsPath = 'solid_patterns/'\n",
    "\n",
    "# 取出車牌 Getting License Plate\n",
    "rawImage = cv2.cvtColor(np.array(cv2.imread(imagePath)), cv2.COLOR_RGB2BGR)\n",
    "contours, hierarchy = cv2.findContours(cv2.Canny(cv2.GaussianBlur(cv2.bilateralFilter(cv2.cvtColor(rawImage, cv2.COLOR_BGR2GRAY), 11, 17, 17), (5, 5), 0), 170, 200), cv2.RETR_LIST, cv2.CHAIN_APPROX_SIMPLE)  # 轉為灰階，去除背景雜訊，高斯模糊，取得邊緣，取得輪廓\n",
    "rectangleContours = []  # 為四邊形的集合\n",
    "for contour in sorted(contours, key=cv2.contourArea, reverse=True)[:30]:  # 只取前三十名輪廓\n",
    "    if len(cv2.approxPolyDP(contour, 0.02 * cv2.arcLength(contour, True), True)) == 4:  # 取得輪廓周長*0.02(越小，得到的多邊形角點越多)後，得到多邊形角點，為四邊形者\n",
    "        rectangleContours.append(contour)\n",
    "x, y, w, h = cv2.boundingRect(rectangleContours[0])  # 只取第一名，用一個最小的四邊形，把找到的輪廓包起來。\n",
    "ret, plateImage = cv2.threshold(cv2.cvtColor(cv2.GaussianBlur(rawImage[y:y + h, x:x + w], (3, 3), 0), cv2.COLOR_RGB2GRAY), 0, 255, cv2.THRESH_OTSU)  # 找到車牌後，由原來的圖截取出來，再將其高斯模糊以及取得灰階，再獲得Binary圖\n",
    "\n",
    "# 取出車牌文字 Getting License Plate Number\n",
    "contours, hierarchy = cv2.findContours(plateImage, cv2.RETR_TREE, cv2.CHAIN_APPROX_SIMPLE)  # 取得車牌文字輪廓\n",
    "letters = []\n",
    "for contour in contours:  # 遍歷取得的輪廓\n",
    "    rect = cv2.boundingRect(contour)\n",
    "    if (rect[3] > (rect[2] * 1.5)) and (rect[3] < (rect[2] * 3.5) and (rect[2] > 10)):  # 過濾雜輪廓\n",
    "        letters.append(cv2.boundingRect(contour))  # 存入過濾過的輪廓\n",
    "letter_images = []\n",
    "for letter in sorted(letters, key=lambda s: s[0], reverse=False):  # 重新安排號碼順序遍歷\n",
    "    letter_images.append(plateImage[letter[1]:letter[1] + letter[3], letter[0]:letter[0] + letter[2]])  # 將過濾過的輪廓使用原圖裁切\n",
    "# show文字裁切成果(可選) Showing License Plate Number (optional)\n",
    "from matplotlib import pyplot as plt\n",
    "for i, j in enumerate(letter_images):\n",
    "    plt.subplot(1, len(letter_images), i + 1)\n",
    "    plt.imshow(letter_images[i], cmap='gray')\n",
    "plt.show()\n",
    "\n",
    "# 匹配車牌文字 Matching License Plate Number\n",
    "results = []\n",
    "for index, letter_image in enumerate(letter_images):\n",
    "    best_score = []\n",
    "    patterns = os.listdir(patternsPath)\n",
    "    for filename in patterns:  # 讀取資料夾下所有的圖片\n",
    "        ret, pattern_img = cv2.threshold(cv2.cvtColor(cv2.imdecode(np.fromfile(patternsPath + filename, dtype=np.uint8), 1), cv2.COLOR_RGB2GRAY), 0, 255, cv2.THRESH_OTSU)  # 將範本進行格式轉換，再獲得Binary圖\n",
    "        pattern_img = cv2.resize(pattern_img, (letter_image.shape[1], letter_image.shape[0]))  # 將範本resize至與圖像一樣大小\n",
    "        best_score.append(cv2.matchTemplate(letter_image, pattern_img, cv2.TM_CCOEFF)[0][0])  # 範本匹配，返回匹配得分\n",
    "    i = best_score.index(max(best_score))  # 取得最高分的index\n",
    "    results.append(patterns[i])\n",
    "print(\"\".join(results).replace(extension, \"\"))  # Printing Rusults To Console"
   ]
  },
  {
   "cell_type": "code",
   "execution_count": null,
   "id": "34df7e16",
   "metadata": {},
   "outputs": [],
   "source": []
  }
 ],
 "metadata": {
  "kernelspec": {
   "display_name": "Python 3 (ipykernel)",
   "language": "python",
   "name": "python3"
  },
  "language_info": {
   "codemirror_mode": {
    "name": "ipython",
    "version": 3
   },
   "file_extension": ".py",
   "mimetype": "text/x-python",
   "name": "python",
   "nbconvert_exporter": "python",
   "pygments_lexer": "ipython3",
   "version": "3.9.17"
  }
 },
 "nbformat": 4,
 "nbformat_minor": 5
}
